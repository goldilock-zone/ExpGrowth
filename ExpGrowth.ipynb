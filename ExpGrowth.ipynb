{
 "cells": [
  {
   "cell_type": "code",
   "execution_count": 1,
   "id": "562e5476",
   "metadata": {},
   "outputs": [],
   "source": [
    "import numpy as np\n",
    "import math\n",
    "import matplotlib.pyplot as plt\n",
    "import pandas as pd\n"
   ]
  },
  {
   "cell_type": "code",
   "execution_count": 2,
   "id": "ae1d542f",
   "metadata": {},
   "outputs": [],
   "source": [
    "data = pd.read_csv(\"historys-hockey-stick-gross-domestic-product-per-capita-using-the-ratio-scale-1990.csv\")"
   ]
  },
  {
   "cell_type": "markdown",
   "id": "00b8321d",
   "metadata": {},
   "source": [
    "# Pulling UK Data"
   ]
  },
  {
   "cell_type": "code",
   "execution_count": 3,
   "id": "09618184",
   "metadata": {},
   "outputs": [],
   "source": [
    "UK_list = []\n",
    "for i in range(data.shape[0]):\n",
    "    if (data.loc[i,\"Code\"]) == \"GBR\":\n",
    "        UK_list.append(i)"
   ]
  },
  {
   "cell_type": "code",
   "execution_count": 4,
   "id": "359462b6",
   "metadata": {},
   "outputs": [],
   "source": [
    "year_list = []\n",
    "GDP_list = []\n",
    "for i in UK_list:\n",
    "    year_list.append(data.loc[i,\"Year\"])\n",
    "    GDP_list.append(data.loc[i,\"Real GDP per capita in 2011 US$\"])\n",
    "\n",
    "uk_df = pd.DataFrame({\n",
    "    \"Year\": year_list,\n",
    "    \"GDP\": GDP_list\n",
    "})"
   ]
  },
  {
   "cell_type": "code",
   "execution_count": 5,
   "id": "4ddd0a85",
   "metadata": {},
   "outputs": [],
   "source": [
    "uk_df = pd.DataFrame(uk_df[-100:])\n",
    "read_ls = [i for i in range(218,317,1)]\n",
    "growth_rate = []\n",
    "\n",
    "for i in read_ls:\n",
    "    growth_rate.append((uk_df.loc[i+1, \"GDP\"] - uk_df.loc[i, \"GDP\"])/uk_df.loc[i, \"GDP\"])\n",
    "\n",
    "uk_avg_growth_rate = sum(growth_rate)/len(growth_rate)\n",
    "\n",
    "exp_list = []\n",
    "gdp_list = list(uk_df[\"GDP\"])\n",
    "for i in range(len(growth_rate)):\n",
    "    exp_list.append(uk_df.loc[read_ls[0], \"GDP\"]*np.exp(uk_avg_growth_rate*i))"
   ]
  },
  {
   "cell_type": "code",
   "execution_count": 6,
   "id": "517a4110",
   "metadata": {},
   "outputs": [
    {
     "ename": "SyntaxError",
     "evalue": "invalid syntax (<ipython-input-6-771bcef592a9>, line 2)",
     "output_type": "error",
     "traceback": [
      "\u001b[1;36m  File \u001b[1;32m\"<ipython-input-6-771bcef592a9>\"\u001b[1;36m, line \u001b[1;32m2\u001b[0m\n\u001b[1;33m    plt.plot(gdp_list, label = \"GDP per Capita of UK\")\u001b[0m\n\u001b[1;37m    ^\u001b[0m\n\u001b[1;31mSyntaxError\u001b[0m\u001b[1;31m:\u001b[0m invalid syntax\n"
     ]
    }
   ],
   "source": [
    "plt.plot(exp_list,label = \"Exponential Function on Average Growth Rate of UK\"\n",
    "plt.plot(gdp_list, label = \"GDP per Capita of UK\")\n",
    "plt.legend()\n",
    "plt.show()\n",
    "print(\"Average Growth Rate: \" + str(uk_avg_growth_rate))"
   ]
  },
  {
   "cell_type": "markdown",
   "id": "a616652f",
   "metadata": {},
   "source": [
    "# Pulling Indian Data"
   ]
  },
  {
   "cell_type": "code",
   "execution_count": null,
   "id": "ba0ccf86",
   "metadata": {},
   "outputs": [],
   "source": [
    "IND_list = []\n",
    "for i in range(data.shape[0]):\n",
    "    if (data.loc[i,\"Code\"]) == \"IND\":\n",
    "        IND_list.append(i)"
   ]
  },
  {
   "cell_type": "code",
   "execution_count": null,
   "id": "746c2fed",
   "metadata": {},
   "outputs": [],
   "source": [
    "year_list = []\n",
    "GDP_list = []\n",
    "for i in IND_list:\n",
    "    year_list.append(data.loc[i,\"Year\"])\n",
    "    GDP_list.append(data.loc[i,\"Real GDP per capita in 2011 US$\"])\n",
    "\n",
    "ind_df = pd.DataFrame({\n",
    "    \"Year\": year_list,\n",
    "    \"GDP\": GDP_list\n",
    "})"
   ]
  },
  {
   "cell_type": "code",
   "execution_count": null,
   "id": "eb7d9422",
   "metadata": {},
   "outputs": [],
   "source": [
    "ind_df = pd.DataFrame(ind_df[-31:])\n",
    "read_ls = [i for i in range(114,144,1)]\n",
    "growth_rate = []\n",
    "\n",
    "for i in read_ls:\n",
    "    growth_rate.append((ind_df.loc[i+1, \"GDP\"] - ind_df.loc[i, \"GDP\"])/ind_df.loc[i, \"GDP\"])\n",
    "\n",
    "ind_avg_growth_rate = sum(growth_rate)/len(growth_rate)\n",
    "\n",
    "ind_exp_list = []\n",
    "uk_exp_list = []\n",
    "gdp_list = list(ind_df[\"GDP\"])\n",
    "for i in range(len(growth_rate)):\n",
    "    ind_exp_list.append(ind_df.loc[read_ls[0], \"GDP\"]*np.exp(ind_avg_growth_rate*i))\n",
    "    uk_exp_list.append(ind_df.loc[read_ls[0], \"GDP\"]*np.exp(uk_avg_growth_rate*i))"
   ]
  },
  {
   "cell_type": "code",
   "execution_count": null,
   "id": "b021c1ef",
   "metadata": {},
   "outputs": [],
   "source": [
    "plt.plot(ind_exp_list, label = \"Exponential Function on Average Growth Rate of India\")\n",
    "plt.plot(uk_exp_list, label = \"Exponential Function on Average Growth Rate of UK\")\n",
    "plt.plot(gdp_list, label = \"GDP per Capita of India\")\n",
    "plt.legend()\n",
    "plt.show()\n",
    "print(\"Average Growth Rate: \" + str(ind_avg_growth_rate))"
   ]
  },
  {
   "cell_type": "code",
   "execution_count": null,
   "id": "eb67e627",
   "metadata": {},
   "outputs": [],
   "source": []
  }
 ],
 "metadata": {
  "kernelspec": {
   "display_name": "Python 3",
   "language": "python",
   "name": "python3"
  },
  "language_info": {
   "codemirror_mode": {
    "name": "ipython",
    "version": 3
   },
   "file_extension": ".py",
   "mimetype": "text/x-python",
   "name": "python",
   "nbconvert_exporter": "python",
   "pygments_lexer": "ipython3",
   "version": "3.8.8"
  }
 },
 "nbformat": 4,
 "nbformat_minor": 5
}
